{
 "cells": [
  {
   "cell_type": "code",
   "execution_count": 1,
   "metadata": {},
   "outputs": [
    {
     "output_type": "stream",
     "name": "stdout",
     "text": [
      "Requirement already satisfied: pytelegrambotapi in c:\\python\\python39\\lib\\site-packages (3.7.3)\n",
      "Requirement already satisfied: requests in c:\\python\\python39\\lib\\site-packages (from pytelegrambotapi) (2.24.0)\n",
      "Requirement already satisfied: six in c:\\python\\python39\\lib\\site-packages (from pytelegrambotapi) (1.15.0)\n",
      "Requirement already satisfied: idna<3,>=2.5 in c:\\python\\python39\\lib\\site-packages (from requests->pytelegrambotapi) (2.10)\n",
      "Requirement already satisfied: chardet<4,>=3.0.2 in c:\\python\\python39\\lib\\site-packages (from requests->pytelegrambotapi) (3.0.4)\n",
      "Requirement already satisfied: certifi>=2017.4.17 in c:\\python\\python39\\lib\\site-packages (from requests->pytelegrambotapi) (2020.6.20)\n",
      "Requirement already satisfied: urllib3!=1.25.0,!=1.25.1,<1.26,>=1.21.1 in c:\\python\\python39\\lib\\site-packages (from requests->pytelegrambotapi) (1.25.11)\n",
      "WARNING: You are using pip version 20.2.3; however, version 20.2.4 is available.\n",
      "You should consider upgrading via the 'c:\\python\\python39\\python.exe -m pip install --upgrade pip' command.\n",
      "Requirement already satisfied: pillow in c:\\python\\python39\\lib\\site-packages (8.0.1)\n",
      "WARNING: You are using pip version 20.2.3; however, version 20.2.4 is available.\n",
      "You should consider upgrading via the 'c:\\python\\python39\\python.exe -m pip install --upgrade pip' command.\n"
     ]
    }
   ],
   "source": [
    "!pip install pytelegrambotapi\n",
    "!pip install pillow\n",
    "import telebot\n",
    "import os\n",
    "import subprocess\n",
    "import sys\n",
    "from PIL import Image\n",
    "from PIL import ImageFilter\n",
    "from PIL import ImageDraw\n",
    "import PIL\n",
    "import pathlib"
   ]
  },
  {
   "cell_type": "code",
   "execution_count": 2,
   "metadata": {},
   "outputs": [
    {
     "output_type": "stream",
     "name": "stdout",
     "text": [
      "Directory for photos already exist\nCouldnt create directory for downloading files\n"
     ]
    }
   ],
   "source": [
    "\n",
    "path_to_main = str(pathlib.Path().absolute())\n",
    "\n",
    "info = dict()\n",
    "f_info = open(path_to_main + '/info.txt')\n",
    "try:\n",
    "    for line in f_info:\n",
    "        info[line[:line.find('=')]] = line[line.find('=') + 1:].rstrip()\n",
    "finally:\n",
    "    f_info.close()\n",
    "\n",
    "path_input = path_to_main + '/photos'\n",
    "\n",
    "path_output = info['path_output']\n",
    "token = info['token']\n",
    "\n",
    "try:\n",
    "    os.makedirs(path_output)\n",
    "except BaseException:\n",
    "    print('Directory for photos already exist')\n",
    "else:\n",
    "    print('Creating directory for photos')\n",
    "\n",
    "try:\n",
    "    os.makedirs(path_input)\n",
    "except BaseException:\n",
    "    print('Couldnt create directory for downloading files')\n",
    "else:\n",
    "    print('Directory for downloaded files is created')\n",
    "bot = telebot.TeleBot(token) #insert api token of your bot in ''"
   ]
  },
  {
   "cell_type": "code",
   "execution_count": 3,
   "metadata": {},
   "outputs": [],
   "source": [
    "photo_id = -1\n",
    "\n",
    "def calculate_photo_id(path):\n",
    "    fls = list()\n",
    "    res = 0\n",
    "    for filename in os.listdir(path):\n",
    "        if filename.endswith(\".jpg\") or filename.endswith(\".png\"):\n",
    "            try:\n",
    "                file_id = int(filename[:-4])\n",
    "                fls.append(file_id)\n",
    "            except BaseException:\n",
    "                print('Can not process file', filename)\n",
    "    fls = sorted(fls)\n",
    "    for i in range(len(fls)):\n",
    "        if (i != fls[i]):\n",
    "            res = i\n",
    "            break\n",
    "    if (res == 0):\n",
    "        res = len(fls)\n",
    "    print('Founded value =', res)              \n",
    "    return res\n",
    "\n",
    "def darker_image(img, value):\n",
    "    draw = ImageDraw.Draw(img)\n",
    "    pix = img.load()\n",
    "    width, height = img.size\n",
    "    for i in range(width):\n",
    "        for j in range(height):\n",
    "            a = pix[i, j][0] + value\n",
    "            b = pix[i, j][1] + value\n",
    "            c = pix[i, j][2] + value\n",
    "            a = max(a, 0)\n",
    "            b = max(b, 0)\n",
    "            c = max(c, 0)\n",
    "            a = min(255, a)\n",
    "            b = min(255, b)\n",
    "            c = min(255, c)\n",
    "            draw.point((i, j), (a, b, c))\n",
    "    del draw\n",
    "    return img       \n",
    "\n",
    "def resize_image(input_image_path, output_image_path, file_name):\n",
    "    global photo_id\n",
    "    if photo_id == -1:\n",
    "        photo_id = calculate_photo_id(output_image_path)\n",
    "    original_image = Image.open(input_image_path + '/' + file_name)\n",
    "    width, height = original_image.size\n",
    "    size = (max(width, height), max(width, height));\n",
    "    print('The original image size is {wide} wide x {high} '\n",
    "          'high'.format(wide=width, high=height))\n",
    "    blured_size = (min(width, height), min(width, height))\n",
    "    box_len = max(size)\n",
    "    k = size[0] / blured_size[0] \n",
    "    blured_size = (int(width * k) , int(height * k))\n",
    "    blured_image = Image.open(input_image_path + '/' + file_name)\n",
    "    blured_image = blured_image.resize(blured_size, Image.BICUBIC)\n",
    "    blured_image = blured_image.filter(ImageFilter.BoxBlur(int(box_len / 50)))\n",
    "    blured_image = darker_image(blured_image, -100)\n",
    "\n",
    "    blured_image.paste(original_image, (int((blured_size[0] - width) / 2), int((blured_size[1] - height) / 2)))\n",
    "    top_left = (int((blured_size[0] - size[0]) / 2), int((blured_size[1] - size[1])/2))\n",
    "    bot_right = (top_left[0] + box_len, top_left[1] + box_len)\n",
    "    box = (top_left[0], top_left[1], bot_right[0], bot_right[1])\n",
    "    blured_image = blured_image.crop(box)\n",
    "    width, height = blured_image.size\n",
    "    print('The resized image size is {wide} wide x {height} '\n",
    "          'high'.format(wide=width, height=height))\n",
    "    blured_image.save(output_image_path + '/' + str(photo_id) + '.jpg')"
   ]
  },
  {
   "cell_type": "code",
   "execution_count": 4,
   "metadata": {},
   "outputs": [
    {
     "output_type": "stream",
     "name": "stdout",
     "text": [
      "its wednesday my dudes\n",
      "photos/file_316.jpg\n",
      "photos/file_317.jpg\n",
      "Founded value = 2\n",
      "The original image size is 148 wide x 320 highThe original image size is 180 wide x 320 high\n",
      "\n",
      "The resized image size is 320 wide x 320 high\n",
      "The resized image size is 320 wide x 320 high\n",
      "photos/file_318.jpg\n",
      "photos/file_319.jpg\n",
      "The original image size is 320 wide x 149 high\n",
      "The original image size is 320 wide x 127 high\n",
      "The resized image size is 320 wide x 320 high\n",
      "The resized image size is 320 wide x 320 high\n"
     ]
    }
   ],
   "source": [
    "@bot.message_handler(content_types=['text'])\n",
    "def message_handler_text(message):\n",
    "    chatId = message.chat.id\n",
    "    bot.send_message(chatId, 'Пришлите мне фотографии.')    \n",
    "@bot.message_handler(content_types=['photo'])\n",
    "def message_handler(message):\n",
    "    global photo_id\n",
    "    global path_input\n",
    "    global path_output\n",
    "    photo = message.photo[0]\n",
    "    f = bot.get_file(photo.file_id)\n",
    "    print(f.file_path)\n",
    "    downloaded_file = bot.download_file(f.file_path)\n",
    "    src = path_to_main + '/' + f.file_path\n",
    "    filename = f.file_path[f.file_path.rfind('/') + 1 if f.file_path[:f.file_path.rfind('/')] != -1 else 0 :]\n",
    "    new_file = open(src, 'wb+')\n",
    "    new_file.write(downloaded_file)\n",
    "    resize_image(path_input, path_output, filename)#TODO DODO\n",
    "    photo_id += 1\n",
    "    new_file.close()\n",
    "print(\"its wednesday my dudes\")\n",
    "\n",
    "if __name__ == '__main__':\n",
    "    bot.polling(none_stop=True,  timeout=123)"
   ]
  },
  {
   "cell_type": "code",
   "execution_count": null,
   "metadata": {},
   "outputs": [],
   "source": []
  }
 ],
 "metadata": {
  "kernelspec": {
   "display_name": "Python 3",
   "language": "python",
   "name": "python3"
  },
  "language_info": {
   "codemirror_mode": {
    "name": "ipython",
    "version": 3
   },
   "file_extension": ".py",
   "mimetype": "text/x-python",
   "name": "python",
   "nbconvert_exporter": "python",
   "pygments_lexer": "ipython3",
   "version": "3.9.0-final"
  }
 },
 "nbformat": 4,
 "nbformat_minor": 4
}