{
 "cells": [
  {
   "cell_type": "code",
   "execution_count": null,
   "metadata": {},
   "outputs": [],
   "source": [
    "import telebot\n",
    "import os\n",
    "import subprocess\n",
    "import sys\n",
    "from PIL import Image\n",
    "import PIL"
   ]
  },
  {
   "cell_type": "code",
   "execution_count": null,
   "metadata": {},
   "outputs": [],
   "source": [
    "#!pip install pytelegrambotapi"
   ]
  },
  {
   "cell_type": "code",
   "execution_count": null,
   "metadata": {},
   "outputs": [],
   "source": [
    "path_to_main = 'C:/Users/VRDev/Desktop/Telegram bot'\n",
    "path_to_photos = path_to_main + '/photos'\n",
    "path_input = path_to_photos\n",
    "#path_output = path_to_main + '/photos2'\n",
    "path_output = 'D:/Photos'"
   ]
  },
  {
   "cell_type": "code",
   "execution_count": null,
   "metadata": {},
   "outputs": [],
   "source": [
    "photo_id = 1\n",
    "def resize_image(input_image_path, output_image_path, file_name):\n",
    "    original_image = Image.open(input_image_path + '/' + file_name)\n",
    "    width, height = original_image.size\n",
    "    size = (max(width, height), max(width, height));\n",
    "    print('The original image size is {wide} wide x {height} '\n",
    "          'high'.format(wide=width, height=height))\n",
    " \n",
    "    resized_image = Image.new(\"RGB\", size)\n",
    "    resized_image.paste(original_image, (int((size[0] - width) / 2), int((size[1] - height) / 2)))\n",
    "    resized_image = resized_image.resize((1280 ,1280), Image.ANTIALIAS)\n",
    "    width, height = resized_image.size\n",
    "    print('The resized image size is {wide} wide x {height} '\n",
    "          'high'.format(wide=width, height=height))\n",
    "    resized_image.save(output_image_path + '/' + str(photo_id) + '.jpg')"
   ]
  },
  {
   "cell_type": "code",
   "execution_count": null,
   "metadata": {},
   "outputs": [],
   "source": [
    "Token = '915271356:AAEjEJJiwdgOYHTB8KhzUJWBV4oIIrMOurw'\n",
    "bot = telebot.TeleBot(Token) #insert api token of your bot in ''\n",
    "edos_chat_id = 353800890"
   ]
  },
  {
   "cell_type": "code",
   "execution_count": null,
   "metadata": {},
   "outputs": [],
   "source": [
    "@bot.message_handler(content_types=['text'])\n",
    "def message_handler_text(message):\n",
    "    chatId = message.chat.id\n",
    "    if message.text == '/start':\n",
    "        bot.send_message(chatId, 'Пришли мне одну фотографию.')\n",
    "    else:\n",
    "        bot.send_message(chatId, 'Пришли мне одну фотографию.')\n",
    "\n",
    "@bot.message_handler(content_types=['photo'])\n",
    "def message_handler(message):\n",
    "    global photo_id\n",
    "    global edos_chat_id\n",
    "    usr = message.from_user\n",
    "    f = open('logger.txt', 'a')\n",
    "    f.write('{} прислал фотографию. Username - {} \\n'.format(usr.first_name, usr.username))\n",
    "    f.close()\n",
    "\n",
    "    chatId = message.chat.id\n",
    "    path_to_bot = path_to_main #Path to your main.py\n",
    "    file = bot.get_file(message.photo[-1].file_id)\n",
    "    print(file.file_path)\n",
    "    #print (\"file_id: \" + str(message.photo[-1].file_id))\n",
    "    downloaded_file = bot.download_file(file.file_path)\n",
    "    #bot.reply_to(message, file.file_path)\n",
    "    src = path_to_main + '/' + file.file_path\n",
    "    print(src)\n",
    "    new_file = open(src, 'wb+')\n",
    "    new_file.write(downloaded_file)\n",
    "    resize_image(path_to_main, path_output, file.file_path)#TODO DODO\n",
    "    #photo_to_send = new_file\n",
    "    photo_to_send = open(path_output + '/' + str(photo_id) + '.jpg', \"rb\")\n",
    "    photo_id += 1\n",
    "    #bot.send_photo(edos_chat_id, photo_to_send)\n",
    "   \n",
    "    photo_to_send.close()\n",
    "    new_file.close()\n",
    "    print(message.chat.id)\n",
    "print(\"its wednesday my dudes\")\n",
    "\n",
    "if __name__ == '__main__':\n",
    "    bot.polling(none_stop=True,  timeout=123)"
   ]
  },
  {
   "cell_type": "code",
   "execution_count": null,
   "metadata": {},
   "outputs": [],
   "source": []
  },
  {
   "cell_type": "code",
   "execution_count": null,
   "metadata": {},
   "outputs": [],
   "source": []
  }
 ],
 "metadata": {
  "kernelspec": {
   "display_name": "Python 3",
   "language": "python",
   "name": "python3"
  },
  "language_info": {
   "codemirror_mode": {
    "name": "ipython",
    "version": 3
   },
   "file_extension": ".py",
   "mimetype": "text/x-python",
   "name": "python",
   "nbconvert_exporter": "python",
   "pygments_lexer": "ipython3",
   "version": "3.7.4"
  }
 },
 "nbformat": 4,
 "nbformat_minor": 4
}
